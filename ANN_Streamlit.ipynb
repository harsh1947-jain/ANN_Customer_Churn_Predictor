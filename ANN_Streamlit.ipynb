{
 "cells": [
  {
   "cell_type": "code",
   "execution_count": null,
   "id": "6a5505c9-c806-4e44-ba41-62f81c2902c8",
   "metadata": {},
   "outputs": [],
   "source": []
  },
  {
   "cell_type": "code",
   "execution_count": 1,
   "id": "f51ca08e-63fc-43f4-aff7-70ace795e3c5",
   "metadata": {},
   "outputs": [],
   "source": [
    "import streamlit as st"
   ]
  },
  {
   "cell_type": "code",
   "execution_count": 4,
   "id": "0de9e82f-094c-4cb8-b954-a45417e45293",
   "metadata": {},
   "outputs": [],
   "source": [
    "import numpy as np\n",
    "import tensorflow as tf\n",
    "from tensorflow.keras.models import load_model\n",
    "from sklearn.preprocessing import StandardScaler,LabelEncoder,OneHotEncoder\n",
    "import pandas as pd\n",
    "import pickle"
   ]
  },
  {
   "cell_type": "code",
   "execution_count": 5,
   "id": "c4a10c39-cbf6-4848-af22-9d1a24078d3c",
   "metadata": {},
   "outputs": [],
   "source": [
    "model=load_model('model.keras')\n"
   ]
  },
  {
   "cell_type": "code",
   "execution_count": 6,
   "id": "43da6588-c512-4f5d-a23f-113b6b291648",
   "metadata": {},
   "outputs": [],
   "source": [
    "with open('onehot_encoder_geo.pkl','rb')as file:\n",
    "    onehot_encoder_geo=pickle.load(file)"
   ]
  },
  {
   "cell_type": "code",
   "execution_count": 7,
   "id": "fd6ba3e4-859c-4b6a-a7f1-acfb33d1f601",
   "metadata": {},
   "outputs": [],
   "source": [
    "with open('label_encoder_gender.pkl','rb')as file:\n",
    "    label_encoder_gender=pickle.load(file)"
   ]
  },
  {
   "cell_type": "code",
   "execution_count": 8,
   "id": "836f8d08-41c1-431a-8e23-13d9d3645ecc",
   "metadata": {},
   "outputs": [],
   "source": [
    "with open('scaler.pkl','rb')as file:\n",
    "    scaler=pickle.load(file)"
   ]
  },
  {
   "cell_type": "code",
   "execution_count": 9,
   "id": "e21df5bb-0cbf-4d87-9648-50877e61cffb",
   "metadata": {},
   "outputs": [
    {
     "name": "stderr",
     "output_type": "stream",
     "text": [
      "2024-12-26 02:50:57.385 \n",
      "  \u001b[33m\u001b[1mWarning:\u001b[0m to view this Streamlit app on a browser, run it with the following\n",
      "  command:\n",
      "\n",
      "    streamlit run C:\\Users\\Si\\anaconda3\\Lib\\site-packages\\ipykernel_launcher.py [ARGUMENTS]\n"
     ]
    },
    {
     "data": {
      "text/plain": [
       "DeltaGenerator()"
      ]
     },
     "execution_count": 9,
     "metadata": {},
     "output_type": "execute_result"
    }
   ],
   "source": [
    "st.title('Customer Churn Prediction')\n"
   ]
  },
  {
   "cell_type": "code",
   "execution_count": 10,
   "id": "3351be1d-23e9-4be8-b217-f7b06a8f16eb",
   "metadata": {},
   "outputs": [
    {
     "name": "stderr",
     "output_type": "stream",
     "text": [
      "2024-12-26 02:51:00.243 Session state does not function when running a script without `streamlit run`\n"
     ]
    }
   ],
   "source": [
    "geography = st.selectbox('Geography', onehot_encoder_geo.categories_[0])\n",
    "gender = st.selectbox('Gender', label_encoder_gender.classes_)\n",
    "age = st.slider('Age', 18, 92)\n",
    "balance =st.number_input('Balance')\n",
    "credit_score = st.number_input('Credit Score')\n",
    "estimated_salary = st.number_input('Estimated Salary')\n",
    "tenure = st.slider('Tenure', 0, 10)\n",
    "num_of_products = st.slider('Number of Products', 1, 4)\n",
    "has_cr_card = st.selectbox('Has Credit Card', [0, 1])\n",
    "is_active_member = st.selectbox( 'Is Active Member', [0, 1])"
   ]
  },
  {
   "cell_type": "code",
   "execution_count": 11,
   "id": "61dd31a2-82cc-455e-9aea-b968cc1f0d08",
   "metadata": {},
   "outputs": [],
   "source": [
    "#Prepare the input data\n",
    "input_data=pd.DataFrame({\n",
    "'CreditScore': [credit_score],\n",
    "'Gender': [label_encoder_gender.transform([gender])[0]],\n",
    "'Age': [age],\n",
    "\n",
    "'Tenure': [tenure],\n",
    "\n",
    "'Balance': [balance],\n",
    "\n",
    "'NumOfProducts': [num_of_products],\n",
    "\n",
    "'HasCrCard': [has_cr_card],\n",
    "\n",
    "'IsActiveMember': [is_active_member],\n",
    "\n",
    "'EstimatedSalary': [estimated_salary]\n",
    "})"
   ]
  },
  {
   "cell_type": "code",
   "execution_count": 12,
   "id": "0a55f4e2-d844-48fb-8cc7-fbe598f3aec7",
   "metadata": {},
   "outputs": [
    {
     "name": "stderr",
     "output_type": "stream",
     "text": [
      "C:\\Users\\Si\\anaconda3\\Lib\\site-packages\\sklearn\\base.py:493: UserWarning: X does not have valid feature names, but OneHotEncoder was fitted with feature names\n",
      "  warnings.warn(\n"
     ]
    }
   ],
   "source": [
    "geo_encoded=onehot_encoder_geo.transform([[geography]])\n",
    "geo_encoded_df=pd.DataFrame(geo_encoded,columns=onehot_encoder_geo.get_feature_names_out(['Geography']))"
   ]
  },
  {
   "cell_type": "code",
   "execution_count": 13,
   "id": "8aba426b-47f4-499e-a73d-780ad00b56fe",
   "metadata": {},
   "outputs": [],
   "source": [
    "input_data=pd.concat([input_data.reset_index(drop=True),geo_encoded_df],axis=1)"
   ]
  },
  {
   "cell_type": "code",
   "execution_count": null,
   "id": "b44da959-7291-4bac-81c4-283f5f1e2696",
   "metadata": {},
   "outputs": [],
   "source": []
  },
  {
   "cell_type": "code",
   "execution_count": null,
   "id": "ba7758cf-5142-4c18-ba40-64336dd3956d",
   "metadata": {},
   "outputs": [],
   "source": []
  },
  {
   "cell_type": "code",
   "execution_count": 14,
   "id": "32f3151d-720c-4f34-8b71-dbeb1af42726",
   "metadata": {},
   "outputs": [],
   "source": [
    "\n",
    "input_scaled=scaler.fit_transform(input_data)\n"
   ]
  },
  {
   "cell_type": "code",
   "execution_count": 15,
   "id": "99ba1477-f8bd-41e2-acd0-36164b057454",
   "metadata": {},
   "outputs": [
    {
     "name": "stdout",
     "output_type": "stream",
     "text": [
      "\u001b[1m1/1\u001b[0m \u001b[32m━━━━━━━━━━━━━━━━━━━━\u001b[0m\u001b[37m\u001b[0m \u001b[1m0s\u001b[0m 113ms/step\n"
     ]
    },
    {
     "data": {
      "text/plain": [
       "array([[0.16342027]], dtype=float32)"
      ]
     },
     "execution_count": 15,
     "metadata": {},
     "output_type": "execute_result"
    }
   ],
   "source": [
    "prediction_prob=model.predict(input_scaled)\n",
    "prediction_prob"
   ]
  },
  {
   "cell_type": "code",
   "execution_count": 16,
   "id": "d6a7d8bc-6079-498f-8456-e2d0b4f3dd85",
   "metadata": {},
   "outputs": [
    {
     "name": "stdout",
     "output_type": "stream",
     "text": [
      "Customer is not likely to churn.\n"
     ]
    }
   ],
   "source": [
    "if prediction_prob > 0.5:\n",
    "    print(\"Customer is likely to churn.\")\n",
    "else:\n",
    "     print(\"Customer is not likely to churn.\")"
   ]
  },
  {
   "cell_type": "code",
   "execution_count": null,
   "id": "68f6dde5-8c03-424f-8a35-0fab0d6afb67",
   "metadata": {},
   "outputs": [],
   "source": []
  }
 ],
 "metadata": {
  "kernelspec": {
   "display_name": "Python 3 (ipykernel)",
   "language": "python",
   "name": "python3"
  },
  "language_info": {
   "codemirror_mode": {
    "name": "ipython",
    "version": 3
   },
   "file_extension": ".py",
   "mimetype": "text/x-python",
   "name": "python",
   "nbconvert_exporter": "python",
   "pygments_lexer": "ipython3",
   "version": "3.12.7"
  }
 },
 "nbformat": 4,
 "nbformat_minor": 5
}
